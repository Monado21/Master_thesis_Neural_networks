{
 "cells": [
  {
   "cell_type": "code",
   "execution_count": 1,
   "id": "1fdd35ec",
   "metadata": {},
   "outputs": [],
   "source": [
    "%matplotlib notebook\n",
    "import os\n",
    "import h5py\n",
    "import covseisnet as cn\n",
    "import obspy\n",
    "import numpy as np\n",
    "from obspy import UTCDateTime\n",
    "from obspy.clients.fdsn import Client\n",
    "import numpy.ma as ma\n",
    "def insert_str(string, str_to_insert, index):\n",
    "    return string[:index] + str_to_insert + string[index:]"
   ]
  },
  {
   "cell_type": "code",
   "execution_count": 2,
   "id": "14ea680b",
   "metadata": {},
   "outputs": [],
   "source": [
    "def suppr_str(string, index, number_to_suppr):\n",
    "    temp= index+number_to_suppr\n",
    "    return string[:index] + string[temp:]\n",
    "def suppr_gaps(stream):\n",
    "    for i in range(len(stream)):\n",
    "        average = stream[i].data.mean()\n",
    "        stream[i].data=ma.filled(stream[i].data,average)\n",
    "    return stream\n",
    "def merge_traces_data_together(stream,number):\n",
    "    for i in range(0,640*number,number):\n",
    "        stream[int(i/number)]=stream[i]\n",
    "        for j in range(1,number):\n",
    "            stream[int(i/number)]+=stream[i+j]\n",
    "    for i in range(640):\n",
    "        for j in range(number-1):\n",
    "                stream.pop(640)\n",
    "    return stream"
   ]
  },
  {
   "cell_type": "code",
   "execution_count": 3,
   "id": "4fc71daf",
   "metadata": {},
   "outputs": [],
   "source": [
    "def read_stream(name_of_folder):\n",
    "    \n",
    "    hollow_path = r\"C:\\Users\\MFE\\ansel\\\\ID.00000_20210701.mseed\"\n",
    "    path = insert_str(hollow_path,name_of_folder,19)\n",
    "    hollow_path1= suppr_str(path,42,1)\n",
    "    hollow_path2= suppr_str(hollow_path1,42,1)\n",
    "    hollow_path3= suppr_str(hollow_path2,42,1)\n",
    "    stream = cn.arraystream.read(path)\n",
    "    for i in range(9):\n",
    "        temp_path = insert_str(hollow_path1,str(i+1),46)\n",
    "        print(temp_path)\n",
    "        stream += cn.arraystream.read(temp_path)\n",
    "    for i in range(10,100):\n",
    "        temp_path = insert_str(hollow_path2,str(i),45)\n",
    "        stream += cn.arraystream.read(temp_path)\n",
    "    for i in range(100,640):\n",
    "        temp_path = insert_str(hollow_path3,str(i),44)\n",
    "        stream += cn.arraystream.read(temp_path)\n",
    "    return stream"
   ]
  },
  {
   "cell_type": "code",
   "execution_count": 4,
   "id": "28c819f9",
   "metadata": {
    "scrolled": true
   },
   "outputs": [
    {
     "name": "stdout",
     "output_type": "stream",
     "text": [
      "C:\\Users\\MFE\\ansel\\20210701_T062219.81\\ID.00001_20210701.mseed\n",
      "C:\\Users\\MFE\\ansel\\20210701_T062219.81\\ID.00002_20210701.mseed\n",
      "C:\\Users\\MFE\\ansel\\20210701_T062219.81\\ID.00003_20210701.mseed\n",
      "C:\\Users\\MFE\\ansel\\20210701_T062219.81\\ID.00004_20210701.mseed\n",
      "C:\\Users\\MFE\\ansel\\20210701_T062219.81\\ID.00005_20210701.mseed\n",
      "C:\\Users\\MFE\\ansel\\20210701_T062219.81\\ID.00006_20210701.mseed\n",
      "C:\\Users\\MFE\\ansel\\20210701_T062219.81\\ID.00007_20210701.mseed\n",
      "C:\\Users\\MFE\\ansel\\20210701_T062219.81\\ID.00008_20210701.mseed\n",
      "C:\\Users\\MFE\\ansel\\20210701_T062219.81\\ID.00009_20210701.mseed\n",
      "C:\\Users\\MFE\\ansel\\20210701_T062239.81\\ID.00001_20210701.mseed\n",
      "C:\\Users\\MFE\\ansel\\20210701_T062239.81\\ID.00002_20210701.mseed\n",
      "C:\\Users\\MFE\\ansel\\20210701_T062239.81\\ID.00003_20210701.mseed\n",
      "C:\\Users\\MFE\\ansel\\20210701_T062239.81\\ID.00004_20210701.mseed\n",
      "C:\\Users\\MFE\\ansel\\20210701_T062239.81\\ID.00005_20210701.mseed\n",
      "C:\\Users\\MFE\\ansel\\20210701_T062239.81\\ID.00006_20210701.mseed\n",
      "C:\\Users\\MFE\\ansel\\20210701_T062239.81\\ID.00007_20210701.mseed\n",
      "C:\\Users\\MFE\\ansel\\20210701_T062239.81\\ID.00008_20210701.mseed\n",
      "C:\\Users\\MFE\\ansel\\20210701_T062239.81\\ID.00009_20210701.mseed\n",
      "C:\\Users\\MFE\\ansel\\20210701_T062259.81\\ID.00001_20210701.mseed\n",
      "C:\\Users\\MFE\\ansel\\20210701_T062259.81\\ID.00002_20210701.mseed\n",
      "C:\\Users\\MFE\\ansel\\20210701_T062259.81\\ID.00003_20210701.mseed\n",
      "C:\\Users\\MFE\\ansel\\20210701_T062259.81\\ID.00004_20210701.mseed\n",
      "C:\\Users\\MFE\\ansel\\20210701_T062259.81\\ID.00005_20210701.mseed\n",
      "C:\\Users\\MFE\\ansel\\20210701_T062259.81\\ID.00006_20210701.mseed\n",
      "C:\\Users\\MFE\\ansel\\20210701_T062259.81\\ID.00007_20210701.mseed\n",
      "C:\\Users\\MFE\\ansel\\20210701_T062259.81\\ID.00008_20210701.mseed\n",
      "C:\\Users\\MFE\\ansel\\20210701_T062259.81\\ID.00009_20210701.mseed\n",
      "C:\\Users\\MFE\\ansel\\20210701_T062319.81\\ID.00001_20210701.mseed\n",
      "C:\\Users\\MFE\\ansel\\20210701_T062319.81\\ID.00002_20210701.mseed\n",
      "C:\\Users\\MFE\\ansel\\20210701_T062319.81\\ID.00003_20210701.mseed\n",
      "C:\\Users\\MFE\\ansel\\20210701_T062319.81\\ID.00004_20210701.mseed\n",
      "C:\\Users\\MFE\\ansel\\20210701_T062319.81\\ID.00005_20210701.mseed\n",
      "C:\\Users\\MFE\\ansel\\20210701_T062319.81\\ID.00006_20210701.mseed\n",
      "C:\\Users\\MFE\\ansel\\20210701_T062319.81\\ID.00007_20210701.mseed\n",
      "C:\\Users\\MFE\\ansel\\20210701_T062319.81\\ID.00008_20210701.mseed\n",
      "C:\\Users\\MFE\\ansel\\20210701_T062319.81\\ID.00009_20210701.mseed\n",
      "C:\\Users\\MFE\\ansel\\20210701_T062339.81\\ID.00001_20210701.mseed\n",
      "C:\\Users\\MFE\\ansel\\20210701_T062339.81\\ID.00002_20210701.mseed\n",
      "C:\\Users\\MFE\\ansel\\20210701_T062339.81\\ID.00003_20210701.mseed\n",
      "C:\\Users\\MFE\\ansel\\20210701_T062339.81\\ID.00004_20210701.mseed\n",
      "C:\\Users\\MFE\\ansel\\20210701_T062339.81\\ID.00005_20210701.mseed\n",
      "C:\\Users\\MFE\\ansel\\20210701_T062339.81\\ID.00006_20210701.mseed\n",
      "C:\\Users\\MFE\\ansel\\20210701_T062339.81\\ID.00007_20210701.mseed\n",
      "C:\\Users\\MFE\\ansel\\20210701_T062339.81\\ID.00008_20210701.mseed\n",
      "C:\\Users\\MFE\\ansel\\20210701_T062339.81\\ID.00009_20210701.mseed\n",
      "C:\\Users\\MFE\\ansel\\20210701_T062359.81\\ID.00001_20210701.mseed\n",
      "C:\\Users\\MFE\\ansel\\20210701_T062359.81\\ID.00002_20210701.mseed\n",
      "C:\\Users\\MFE\\ansel\\20210701_T062359.81\\ID.00003_20210701.mseed\n",
      "C:\\Users\\MFE\\ansel\\20210701_T062359.81\\ID.00004_20210701.mseed\n",
      "C:\\Users\\MFE\\ansel\\20210701_T062359.81\\ID.00005_20210701.mseed\n",
      "C:\\Users\\MFE\\ansel\\20210701_T062359.81\\ID.00006_20210701.mseed\n",
      "C:\\Users\\MFE\\ansel\\20210701_T062359.81\\ID.00007_20210701.mseed\n",
      "C:\\Users\\MFE\\ansel\\20210701_T062359.81\\ID.00008_20210701.mseed\n",
      "C:\\Users\\MFE\\ansel\\20210701_T062359.81\\ID.00009_20210701.mseed\n",
      "C:\\Users\\MFE\\ansel\\20210701_T062419.81\\ID.00001_20210701.mseed\n",
      "C:\\Users\\MFE\\ansel\\20210701_T062419.81\\ID.00002_20210701.mseed\n",
      "C:\\Users\\MFE\\ansel\\20210701_T062419.81\\ID.00003_20210701.mseed\n",
      "C:\\Users\\MFE\\ansel\\20210701_T062419.81\\ID.00004_20210701.mseed\n",
      "C:\\Users\\MFE\\ansel\\20210701_T062419.81\\ID.00005_20210701.mseed\n",
      "C:\\Users\\MFE\\ansel\\20210701_T062419.81\\ID.00006_20210701.mseed\n",
      "C:\\Users\\MFE\\ansel\\20210701_T062419.81\\ID.00007_20210701.mseed\n",
      "C:\\Users\\MFE\\ansel\\20210701_T062419.81\\ID.00008_20210701.mseed\n",
      "C:\\Users\\MFE\\ansel\\20210701_T062419.81\\ID.00009_20210701.mseed\n",
      "(273, 640, 2048)\n",
      "[-2585.   939.   302.   319.  4816.]\n"
     ]
    }
   ],
   "source": [
    "stream1 =read_stream('20210701_T062219.81')\n",
    "stream2 =read_stream('20210701_T062239.81')\n",
    "stream3 =read_stream('20210701_T062259.81')\n",
    "stream4 =read_stream('20210701_T062319.81')\n",
    "stream5 =read_stream('20210701_T062339.81')\n",
    "stream6 =read_stream('20210701_T062359.81')\n",
    "stream7 =read_stream('20210701_T062419.81')\n",
    "stream_count = 7\n",
    "size=39*stream_count,len(stream1),2048\n",
    "data_total=np.zeros(size,dtype=np.float32)\n",
    "print(data_total.shape)\n",
    "for i in range(len(stream1)):\n",
    "    for j in range(39):\n",
    "        data_total[j][i]=stream1[i][2048*j:2048*(j+1)]\n",
    "        data_total[39+j][i]=stream2[i][2048*j:2048*(j+1)]\n",
    "        data_total[2*39+j][i]=stream3[i][2048*j:2048*(j+1)]\n",
    "        data_total[3*39+j][i]=stream4[i][2048*j:2048*(j+1)]\n",
    "        data_total[4*39+j][i]=stream5[i][2048*j:2048*(j+1)]\n",
    "        data_total[5*39+j][i]=stream6[i][2048*j:2048*(j+1)]\n",
    "        data_total[6*39+j][i]=stream7[i][2048*j:2048*(j+1)]\n",
    "# create an array containg the 3 streams ( used to register the reconstruction )\n",
    "print(data_total[0][2][0:5])"
   ]
  },
  {
   "cell_type": "code",
   "execution_count": 5,
   "id": "1d6865f0",
   "metadata": {},
   "outputs": [],
   "source": [
    "for i in range(len(stream1)):\n",
    "    for j in range(39*stream_count):\n",
    "        data_total[j][i]=data_total[j][i]/data_total[j][i].std()"
   ]
  },
  {
   "cell_type": "code",
   "execution_count": 6,
   "id": "a4a7c4c2",
   "metadata": {},
   "outputs": [],
   "source": [
    "def save_arrays(X, save_dir):\n",
    "    file_paths = []\n",
    "    if not os.path.exists(save_dir):\n",
    "        os.makedirs(save_dir)\n",
    "    for i in range(X.shape[0]):\n",
    "        file_path = os.path.join(save_dir, f\"array{i}.npy\")\n",
    "        np.save(file_path, X[i])\n",
    "        file_paths.append(file_path)\n",
    "    return file_paths"
   ]
  },
  {
   "cell_type": "code",
   "execution_count": 7,
   "id": "38b8dcb0",
   "metadata": {},
   "outputs": [],
   "source": [
    "save_dir = r\"C:\\Users\\MFE\\ansel\\J-Invariant encoder\\Stored arrays_test\"\n",
    "listing = save_arrays(data_total,save_dir)\n"
   ]
  },
  {
   "cell_type": "code",
   "execution_count": 8,
   "id": "0342d227",
   "metadata": {},
   "outputs": [],
   "source": [
    "# Using the join method to write the entire list to a file\n",
    "with open('my_list.txt', 'w') as f:\n",
    "    f.write('\\n'.join(map(str, listing)))\n"
   ]
  },
  {
   "cell_type": "code",
   "execution_count": null,
   "id": "1f59d8c3",
   "metadata": {},
   "outputs": [],
   "source": []
  }
 ],
 "metadata": {
  "kernelspec": {
   "display_name": "Python 3",
   "language": "python",
   "name": "python3"
  },
  "language_info": {
   "codemirror_mode": {
    "name": "ipython",
    "version": 3
   },
   "file_extension": ".py",
   "mimetype": "text/x-python",
   "name": "python",
   "nbconvert_exporter": "python",
   "pygments_lexer": "ipython3",
   "version": "3.8.8"
  }
 },
 "nbformat": 4,
 "nbformat_minor": 5
}
